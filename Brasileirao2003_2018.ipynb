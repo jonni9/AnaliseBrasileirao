{
  "nbformat": 4,
  "nbformat_minor": 0,
  "metadata": {
    "colab": {
      "provenance": [],
      "collapsed_sections": [],
      "mount_file_id": "1_6IVouGzKhTk77I092rUTBiMeZmCiRaI",
      "authorship_tag": "ABX9TyOEDao/GFDZzGYmlAVte6Kq",
      "include_colab_link": true
    },
    "kernelspec": {
      "name": "python3",
      "display_name": "Python 3"
    },
    "language_info": {
      "name": "python"
    }
  },
  "cells": [
    {
      "cell_type": "markdown",
      "metadata": {
        "id": "view-in-github",
        "colab_type": "text"
      },
      "source": [
        "<a href=\"https://colab.research.google.com/github/jonni9/AnaliseBrasileirao_2003_2018/blob/main/Brasileirao2003_2018.ipynb\" target=\"_parent\"><img src=\"https://colab.research.google.com/assets/colab-badge.svg\" alt=\"Open In Colab\"/></a>"
      ]
    },
    {
      "cell_type": "markdown",
      "source": [
        "# **Importante nota antes de começar:** \n",
        "A análise inclui apenas a Série A do Campeonato Brasileiro por pontos corridos **(de 2003 a 2018)**\n",
        "\n",
        "---\n",
        "\n"
      ],
      "metadata": {
        "id": "Ck-8g2_rgVgP"
      }
    },
    {
      "cell_type": "code",
      "execution_count": 3,
      "metadata": {
        "id": "v4NqyDcw1337"
      },
      "outputs": [],
      "source": [
        "#importando biblioteca pandas\n",
        "import pandas as pd"
      ]
    },
    {
      "cell_type": "code",
      "source": [
        "from google.colab import drive\n",
        "drive.mount('/content/drive')"
      ],
      "metadata": {
        "colab": {
          "base_uri": "https://localhost:8080/"
        },
        "id": "ZOEpxf4ww4-0",
        "outputId": "a2d9c082-0dcd-4fca-fdf7-e23a2eb68749"
      },
      "execution_count": 4,
      "outputs": [
        {
          "output_type": "stream",
          "name": "stdout",
          "text": [
            "Drive already mounted at /content/drive; to attempt to forcibly remount, call drive.mount(\"/content/drive\", force_remount=True).\n"
          ]
        }
      ]
    },
    {
      "cell_type": "code",
      "source": [
        "import matplotlib.pyplot as plt\n"
      ],
      "metadata": {
        "id": "mfcizPzl-W1s"
      },
      "execution_count": 5,
      "outputs": []
    },
    {
      "cell_type": "code",
      "source": [
        "#importando arquivo csv\n",
        "df = pd.read_csv(\"/content/drive/MyDrive/Datasets/dados-brasileirao-2003-a-2018.csv\", sep='\t')"
      ],
      "metadata": {
        "id": "Yh15HteT38WZ"
      },
      "execution_count": 6,
      "outputs": []
    },
    {
      "cell_type": "code",
      "source": [
        "#Definindo o estilo de gráfico\n",
        "plt.style.use(\"ggplot\")"
      ],
      "metadata": {
        "id": "TpCU_Ju1BtDM"
      },
      "execution_count": 7,
      "outputs": []
    },
    {
      "cell_type": "code",
      "source": [
        "pontuacao = df.groupby('Clb')['Pts'].sum()"
      ],
      "metadata": {
        "id": "KEkAw5TK4inE"
      },
      "execution_count": 8,
      "outputs": []
    },
    {
      "cell_type": "code",
      "source": [
        "#Ultimo ano registrado\n",
        "mandantes = df.loc[df[\"Home\"] == True]\n",
        "visitantes = df.loc[df[\"Home\"] == False]"
      ],
      "metadata": {
        "id": "mSjlcQaC4XGW"
      },
      "execution_count": 9,
      "outputs": []
    },
    {
      "cell_type": "code",
      "source": [
        "#Convertendo os dados em Boolean\n",
        "df[\"Vit\"] = df[\"Vit\"].astype('boolean')\n",
        "df[\"Emp\"] = df[\"Emp\"].astype('boolean')\n",
        "df[\"Der\"] = df[\"Der\"].astype('boolean')"
      ],
      "metadata": {
        "id": "8JD26Q8-TB9h"
      },
      "execution_count": 10,
      "outputs": []
    },
    {
      "cell_type": "code",
      "source": [
        "#cabeçalho dos dados\n",
        "df.head()"
      ],
      "metadata": {
        "colab": {
          "base_uri": "https://localhost:8080/",
          "height": 206
        },
        "id": "bZ-zZuKG30ic",
        "outputId": "71bd6fa1-6e9c-4e6a-ed15-eba16cafd4cf"
      },
      "execution_count": 11,
      "outputs": [
        {
          "output_type": "execute_result",
          "data": {
            "text/plain": [
              "    Ano  Rod  Pos           Clb  Pts    Vit    Emp    Der  GP  GC  SG  \\\n",
              "0  2003    1    1  Athletico-PR    3   True  False  False   2   0   2   \n",
              "1  2003    1    2   Atletico-MG    3   True  False  False   3   0   3   \n",
              "2  2003    1    5         Bahia    1  False   True  False   0   0   0   \n",
              "3  2003    1   21   Corinthians    0  False  False   True   0   3  -3   \n",
              "4  2003    1    6      Coritiba    1  False   True  False   1   1   0   \n",
              "\n",
              "           Adv   Home  Pts(ac)  Vit(ac)  Emp(ac)  Der(ac)  GP(ac)  GC(ac)  \\\n",
              "0       Gremio   True        3        1        0        0       2       0   \n",
              "1  Corinthians  False        3        1        0        0       3       0   \n",
              "2    Fortaleza  False        1        0        1        0       0       0   \n",
              "3  Atletico-MG   True        0        0        0        1       0       3   \n",
              "4     Flamengo  False        1        0        1        0       1       1   \n",
              "\n",
              "   SG(ac)  \n",
              "0       2  \n",
              "1       3  \n",
              "2       0  \n",
              "3      -3  \n",
              "4       0  "
            ],
            "text/html": [
              "\n",
              "  <div id=\"df-285b69d8-bdd2-432e-bd60-e9d71a8315b7\">\n",
              "    <div class=\"colab-df-container\">\n",
              "      <div>\n",
              "<style scoped>\n",
              "    .dataframe tbody tr th:only-of-type {\n",
              "        vertical-align: middle;\n",
              "    }\n",
              "\n",
              "    .dataframe tbody tr th {\n",
              "        vertical-align: top;\n",
              "    }\n",
              "\n",
              "    .dataframe thead th {\n",
              "        text-align: right;\n",
              "    }\n",
              "</style>\n",
              "<table border=\"1\" class=\"dataframe\">\n",
              "  <thead>\n",
              "    <tr style=\"text-align: right;\">\n",
              "      <th></th>\n",
              "      <th>Ano</th>\n",
              "      <th>Rod</th>\n",
              "      <th>Pos</th>\n",
              "      <th>Clb</th>\n",
              "      <th>Pts</th>\n",
              "      <th>Vit</th>\n",
              "      <th>Emp</th>\n",
              "      <th>Der</th>\n",
              "      <th>GP</th>\n",
              "      <th>GC</th>\n",
              "      <th>SG</th>\n",
              "      <th>Adv</th>\n",
              "      <th>Home</th>\n",
              "      <th>Pts(ac)</th>\n",
              "      <th>Vit(ac)</th>\n",
              "      <th>Emp(ac)</th>\n",
              "      <th>Der(ac)</th>\n",
              "      <th>GP(ac)</th>\n",
              "      <th>GC(ac)</th>\n",
              "      <th>SG(ac)</th>\n",
              "    </tr>\n",
              "  </thead>\n",
              "  <tbody>\n",
              "    <tr>\n",
              "      <th>0</th>\n",
              "      <td>2003</td>\n",
              "      <td>1</td>\n",
              "      <td>1</td>\n",
              "      <td>Athletico-PR</td>\n",
              "      <td>3</td>\n",
              "      <td>True</td>\n",
              "      <td>False</td>\n",
              "      <td>False</td>\n",
              "      <td>2</td>\n",
              "      <td>0</td>\n",
              "      <td>2</td>\n",
              "      <td>Gremio</td>\n",
              "      <td>True</td>\n",
              "      <td>3</td>\n",
              "      <td>1</td>\n",
              "      <td>0</td>\n",
              "      <td>0</td>\n",
              "      <td>2</td>\n",
              "      <td>0</td>\n",
              "      <td>2</td>\n",
              "    </tr>\n",
              "    <tr>\n",
              "      <th>1</th>\n",
              "      <td>2003</td>\n",
              "      <td>1</td>\n",
              "      <td>2</td>\n",
              "      <td>Atletico-MG</td>\n",
              "      <td>3</td>\n",
              "      <td>True</td>\n",
              "      <td>False</td>\n",
              "      <td>False</td>\n",
              "      <td>3</td>\n",
              "      <td>0</td>\n",
              "      <td>3</td>\n",
              "      <td>Corinthians</td>\n",
              "      <td>False</td>\n",
              "      <td>3</td>\n",
              "      <td>1</td>\n",
              "      <td>0</td>\n",
              "      <td>0</td>\n",
              "      <td>3</td>\n",
              "      <td>0</td>\n",
              "      <td>3</td>\n",
              "    </tr>\n",
              "    <tr>\n",
              "      <th>2</th>\n",
              "      <td>2003</td>\n",
              "      <td>1</td>\n",
              "      <td>5</td>\n",
              "      <td>Bahia</td>\n",
              "      <td>1</td>\n",
              "      <td>False</td>\n",
              "      <td>True</td>\n",
              "      <td>False</td>\n",
              "      <td>0</td>\n",
              "      <td>0</td>\n",
              "      <td>0</td>\n",
              "      <td>Fortaleza</td>\n",
              "      <td>False</td>\n",
              "      <td>1</td>\n",
              "      <td>0</td>\n",
              "      <td>1</td>\n",
              "      <td>0</td>\n",
              "      <td>0</td>\n",
              "      <td>0</td>\n",
              "      <td>0</td>\n",
              "    </tr>\n",
              "    <tr>\n",
              "      <th>3</th>\n",
              "      <td>2003</td>\n",
              "      <td>1</td>\n",
              "      <td>21</td>\n",
              "      <td>Corinthians</td>\n",
              "      <td>0</td>\n",
              "      <td>False</td>\n",
              "      <td>False</td>\n",
              "      <td>True</td>\n",
              "      <td>0</td>\n",
              "      <td>3</td>\n",
              "      <td>-3</td>\n",
              "      <td>Atletico-MG</td>\n",
              "      <td>True</td>\n",
              "      <td>0</td>\n",
              "      <td>0</td>\n",
              "      <td>0</td>\n",
              "      <td>1</td>\n",
              "      <td>0</td>\n",
              "      <td>3</td>\n",
              "      <td>-3</td>\n",
              "    </tr>\n",
              "    <tr>\n",
              "      <th>4</th>\n",
              "      <td>2003</td>\n",
              "      <td>1</td>\n",
              "      <td>6</td>\n",
              "      <td>Coritiba</td>\n",
              "      <td>1</td>\n",
              "      <td>False</td>\n",
              "      <td>True</td>\n",
              "      <td>False</td>\n",
              "      <td>1</td>\n",
              "      <td>1</td>\n",
              "      <td>0</td>\n",
              "      <td>Flamengo</td>\n",
              "      <td>False</td>\n",
              "      <td>1</td>\n",
              "      <td>0</td>\n",
              "      <td>1</td>\n",
              "      <td>0</td>\n",
              "      <td>1</td>\n",
              "      <td>1</td>\n",
              "      <td>0</td>\n",
              "    </tr>\n",
              "  </tbody>\n",
              "</table>\n",
              "</div>\n",
              "      <button class=\"colab-df-convert\" onclick=\"convertToInteractive('df-285b69d8-bdd2-432e-bd60-e9d71a8315b7')\"\n",
              "              title=\"Convert this dataframe to an interactive table.\"\n",
              "              style=\"display:none;\">\n",
              "        \n",
              "  <svg xmlns=\"http://www.w3.org/2000/svg\" height=\"24px\"viewBox=\"0 0 24 24\"\n",
              "       width=\"24px\">\n",
              "    <path d=\"M0 0h24v24H0V0z\" fill=\"none\"/>\n",
              "    <path d=\"M18.56 5.44l.94 2.06.94-2.06 2.06-.94-2.06-.94-.94-2.06-.94 2.06-2.06.94zm-11 1L8.5 8.5l.94-2.06 2.06-.94-2.06-.94L8.5 2.5l-.94 2.06-2.06.94zm10 10l.94 2.06.94-2.06 2.06-.94-2.06-.94-.94-2.06-.94 2.06-2.06.94z\"/><path d=\"M17.41 7.96l-1.37-1.37c-.4-.4-.92-.59-1.43-.59-.52 0-1.04.2-1.43.59L10.3 9.45l-7.72 7.72c-.78.78-.78 2.05 0 2.83L4 21.41c.39.39.9.59 1.41.59.51 0 1.02-.2 1.41-.59l7.78-7.78 2.81-2.81c.8-.78.8-2.07 0-2.86zM5.41 20L4 18.59l7.72-7.72 1.47 1.35L5.41 20z\"/>\n",
              "  </svg>\n",
              "      </button>\n",
              "      \n",
              "  <style>\n",
              "    .colab-df-container {\n",
              "      display:flex;\n",
              "      flex-wrap:wrap;\n",
              "      gap: 12px;\n",
              "    }\n",
              "\n",
              "    .colab-df-convert {\n",
              "      background-color: #E8F0FE;\n",
              "      border: none;\n",
              "      border-radius: 50%;\n",
              "      cursor: pointer;\n",
              "      display: none;\n",
              "      fill: #1967D2;\n",
              "      height: 32px;\n",
              "      padding: 0 0 0 0;\n",
              "      width: 32px;\n",
              "    }\n",
              "\n",
              "    .colab-df-convert:hover {\n",
              "      background-color: #E2EBFA;\n",
              "      box-shadow: 0px 1px 2px rgba(60, 64, 67, 0.3), 0px 1px 3px 1px rgba(60, 64, 67, 0.15);\n",
              "      fill: #174EA6;\n",
              "    }\n",
              "\n",
              "    [theme=dark] .colab-df-convert {\n",
              "      background-color: #3B4455;\n",
              "      fill: #D2E3FC;\n",
              "    }\n",
              "\n",
              "    [theme=dark] .colab-df-convert:hover {\n",
              "      background-color: #434B5C;\n",
              "      box-shadow: 0px 1px 3px 1px rgba(0, 0, 0, 0.15);\n",
              "      filter: drop-shadow(0px 1px 2px rgba(0, 0, 0, 0.3));\n",
              "      fill: #FFFFFF;\n",
              "    }\n",
              "  </style>\n",
              "\n",
              "      <script>\n",
              "        const buttonEl =\n",
              "          document.querySelector('#df-285b69d8-bdd2-432e-bd60-e9d71a8315b7 button.colab-df-convert');\n",
              "        buttonEl.style.display =\n",
              "          google.colab.kernel.accessAllowed ? 'block' : 'none';\n",
              "\n",
              "        async function convertToInteractive(key) {\n",
              "          const element = document.querySelector('#df-285b69d8-bdd2-432e-bd60-e9d71a8315b7');\n",
              "          const dataTable =\n",
              "            await google.colab.kernel.invokeFunction('convertToInteractive',\n",
              "                                                     [key], {});\n",
              "          if (!dataTable) return;\n",
              "\n",
              "          const docLinkHtml = 'Like what you see? Visit the ' +\n",
              "            '<a target=\"_blank\" href=https://colab.research.google.com/notebooks/data_table.ipynb>data table notebook</a>'\n",
              "            + ' to learn more about interactive tables.';\n",
              "          element.innerHTML = '';\n",
              "          dataTable['output_type'] = 'display_data';\n",
              "          await google.colab.output.renderOutput(dataTable, element);\n",
              "          const docLink = document.createElement('div');\n",
              "          docLink.innerHTML = docLinkHtml;\n",
              "          element.appendChild(docLink);\n",
              "        }\n",
              "      </script>\n",
              "    </div>\n",
              "  </div>\n",
              "  "
            ]
          },
          "metadata": {},
          "execution_count": 11
        }
      ]
    },
    {
      "cell_type": "code",
      "source": [
        "ultima_Rodada = df.loc[df['Rod'] == 38]"
      ],
      "metadata": {
        "id": "wC98dcF1U_Cj"
      },
      "execution_count": 12,
      "outputs": []
    },
    {
      "cell_type": "code",
      "source": [
        "campeao = ultima_Rodada.loc[df['Pos'] == 1]"
      ],
      "metadata": {
        "id": "cil8GdebV0Vz"
      },
      "execution_count": 13,
      "outputs": []
    },
    {
      "cell_type": "markdown",
      "source": [
        "\n",
        "\n",
        "---\n",
        "\n",
        "# O gráfico a baixo ilustra a pontuação com a qual cada campeão terminou o campeonato.\n",
        "\n",
        "---\n",
        "\n"
      ],
      "metadata": {
        "id": "1pgI9Y_1hC54"
      }
    },
    {
      "cell_type": "code",
      "source": [
        "#Gráfico ilustrando a pontuação total de cada campeão por ano\n",
        "campeao.groupby(\"Ano\")[\"Pts(ac)\"].sum().plot(title=\"Pontuação do Campeão\")\n",
        "plt.xlabel(\"Ano\")\n",
        "plt.ylabel(\"Pontuação\");"
      ],
      "metadata": {
        "colab": {
          "base_uri": "https://localhost:8080/",
          "height": 299
        },
        "id": "8bPFHkspXixR",
        "outputId": "d3be6005-b098-452d-9038-757082052ccf"
      },
      "execution_count": 14,
      "outputs": [
        {
          "output_type": "display_data",
          "data": {
            "text/plain": [
              "<Figure size 432x288 with 1 Axes>"
            ],
            "image/png": "[encoded data removed]"
          },
          "metadata": {}
        }
      ]
    },
    {
      "cell_type": "markdown",
      "source": [
        "\n",
        "\n",
        "---\n",
        "\n",
        "\n",
        "# **Pontuação de cada time campeão:**"
      ],
      "metadata": {
        "id": "gIIH6kh-8hoR"
      }
    },
    {
      "cell_type": "code",
      "source": [
        "campeao.groupby(['Clb', 'Ano'])['Pts(ac)'].sum()"
      ],
      "metadata": {
        "colab": {
          "base_uri": "https://localhost:8080/"
        },
        "id": "ZM-eWYhp564A",
        "outputId": "bde9d040-7f4b-4eaa-a4d7-7b361a7bd7b4"
      },
      "execution_count": 25,
      "outputs": [
        {
          "output_type": "execute_result",
          "data": {
            "text/plain": [
              "Clb          Ano \n",
              "Corinthians  2005    77\n",
              "             2011    71\n",
              "             2015    81\n",
              "             2017    72\n",
              "Cruzeiro     2003    76\n",
              "             2013    76\n",
              "             2014    80\n",
              "Flamengo     2009    67\n",
              "Fluminense   2010    71\n",
              "             2012    77\n",
              "Palmeiras    2016    80\n",
              "             2018    80\n",
              "Santos       2004    69\n",
              "Sao-Paulo    2006    78\n",
              "             2007    77\n",
              "             2008    75\n",
              "Name: Pts(ac), dtype: int64"
            ]
          },
          "metadata": {},
          "execution_count": 25
        }
      ]
    },
    {
      "cell_type": "markdown",
      "source": [
        "\n",
        "\n",
        "---\n",
        "\n",
        "**A pontuação média para ser campeãao é de aproximadamente 75 pontos**\n",
        "\n",
        "---\n",
        "\n"
      ],
      "metadata": {
        "id": "MFVDGAa9hSk9"
      }
    },
    {
      "cell_type": "code",
      "source": [
        "#Média de pontos necessários para ser campeão\n",
        "media_do_campeao = campeao['Pts(ac)'].mean()\n",
        "display(media_do_campeao)"
      ],
      "metadata": {
        "id": "80M3Hk20XNrC"
      },
      "execution_count": null,
      "outputs": []
    },
    {
      "cell_type": "code",
      "source": [
        "#Média de gols dos campeões\n",
        "campeao[\"GP(ac)\"].mean()"
      ],
      "metadata": {
        "id": "MOi3yLxqx1vG"
      },
      "execution_count": null,
      "outputs": []
    },
    {
      "cell_type": "markdown",
      "source": [
        "\n",
        "\n",
        "---\n",
        "# **O campeão com menor pontuação terminou com 67 pontos conquistados.**\n",
        "\n",
        "---\n",
        "\n",
        "\n"
      ],
      "metadata": {
        "id": "9fEOD59_hvXR"
      }
    },
    {
      "cell_type": "code",
      "source": [
        "campeao['Pts(ac)'].min()"
      ],
      "metadata": {
        "id": "Jmu-9r4PhoZl"
      },
      "execution_count": null,
      "outputs": []
    },
    {
      "cell_type": "markdown",
      "source": [
        "\n",
        "\n",
        "---\n",
        "\n",
        "# **O gráfico a seguir ilustra o total de gols marcados e sofridos pelo campeão ao fim do campeonato.**\n",
        "\n",
        "---\n",
        "\n"
      ],
      "metadata": {
        "id": "AAmKs7u2iNOp"
      }
    },
    {
      "cell_type": "code",
      "source": [
        "from matplotlib import colorbar\n",
        "#Total de Gols marcados e sofridos pelo campeão do ano\n",
        "campeao.groupby(\"Ano\")[\"GC(ac)\"].sum().plot(title=\"Total de Gols Marcados Pelo Campeão\")\n",
        "campeao.groupby(\"Ano\")[\"GP(ac)\"].sum().plot()\n",
        "plt.xlabel(\"Ano\")\n",
        "plt.ylabel(\"Total de gols\")\n",
        "plt.legend([\"Gols Contra\",\"Gols-Pró\"]);"
      ],
      "metadata": {
        "id": "qRmitC2qa_ho"
      },
      "execution_count": null,
      "outputs": []
    },
    {
      "cell_type": "markdown",
      "source": [
        " ---\n",
        "# **O gráfico a seguir ilustra a pontuação média conquistada pelo mandante e visitante por jogo a cada ano.**\n",
        "\n",
        "---\n",
        "\n"
      ],
      "metadata": {
        "id": "ZDuU6GoHilo6"
      }
    },
    {
      "cell_type": "code",
      "source": [
        "#Gráficos ilustrando a pontuação média do mandante e visitante por jogo\n",
        "mandantes.groupby('Ano')['Pts'].mean().plot(title=\"Pontuação Média Mandante/Visitante\")\n",
        "visitantes.groupby('Ano')['Pts'].mean().plot()\n",
        "plt.xlabel(\"Anos\")\n",
        "plt.ylabel(\"Média de Pontos/Jogo\")\n",
        "plt.legend([\"Mandantes\", \"Visitantes\"]);"
      ],
      "metadata": {
        "id": "VbvVJolUNKlp"
      },
      "execution_count": null,
      "outputs": []
    },
    {
      "cell_type": "markdown",
      "source": [
        "# **O gráfico a seguir ilustra a média de gols marcados pelo mandante/visitante por jogo a cada ano**"
      ],
      "metadata": {
        "id": "1XZdixxljQNc"
      }
    },
    {
      "cell_type": "code",
      "source": [
        "#Gráfico para ilustrar a Média de Gols do Mandante e Visitante\n",
        "mandantes.groupby('Ano')['GP'].mean().plot(title=\"Média de Gols do Mandante/Visitante Por Jogo\")\n",
        "visitantes.groupby('Ano')['GP'].mean().plot()\n",
        "plt.xlabel(\"Anos\")\n",
        "plt.ylabel(\"Média de Gols/Jogo\")\n",
        "plt.legend([\"Mandantes\", \"Visitantes\"]);"
      ],
      "metadata": {
        "id": "cmqOgkO4Rxzz"
      },
      "execution_count": null,
      "outputs": []
    },
    {
      "cell_type": "code",
      "source": [
        "anos = df.groupby(\"Ano\")"
      ],
      "metadata": {
        "id": "26aRKQcb-ayP"
      },
      "execution_count": null,
      "outputs": []
    },
    {
      "cell_type": "markdown",
      "source": [
        "# **O gráfico a seguir ilustra o total de gols marcados no campeonato por ano**"
      ],
      "metadata": {
        "id": "sda7JvNzjoWI"
      }
    },
    {
      "cell_type": "markdown",
      "source": [],
      "metadata": {
        "id": "6Oj2GjSsjoNF"
      }
    },
    {
      "cell_type": "code",
      "source": [
        "#Gráfico com o total de gols por ano\n",
        "anos[\"GP\"].sum().plot(title=\"Total de gols por ano\")\n",
        "plt.xlabel(\"Anos\")\n",
        "plt.ylabel(\"Total de Gols/Ano\");\n",
        "plt.savefig(\"Grafico_Total_Gols_Anos.png\")"
      ],
      "metadata": {
        "id": "_ZsZC1_KADqQ"
      },
      "execution_count": null,
      "outputs": []
    },
    {
      "cell_type": "markdown",
      "source": [
        "# **Essa seria a classificação de somássemos todos os pontos conquistados por cada clube desde 2003 até o ano de 2018**"
      ],
      "metadata": {
        "id": "kC9IY1mgjzyf"
      }
    },
    {
      "cell_type": "code",
      "source": [
        "#classificação com total de pontos conquistados por time\n",
        "pontuacao.sort_values(ascending=False)"
      ],
      "metadata": {
        "id": "ZUgW_wSMKlPc"
      },
      "execution_count": null,
      "outputs": []
    }
  ]
}